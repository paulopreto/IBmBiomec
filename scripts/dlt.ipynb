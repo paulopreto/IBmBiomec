{
 "cells": [
  {
   "cell_type": "markdown",
   "id": "7ff3df7a-363f-4f83-8a96-d31db1a468f0",
   "metadata": {},
   "source": [
    "#DLT"
   ]
  },
  {
   "cell_type": "code",
   "execution_count": 4,
   "id": "dc342874-9877-49f1-87dd-e680d9ff10e6",
   "metadata": {},
   "outputs": [],
   "source": [
    "# carregando as bibliotecas necessarias\n",
    "import numpy as np\n",
    "from numpy.linalg import inv\n",
    "from numpy.linalg import pinv\n",
    "import pandas as pd\n",
    "# from scipy.signal import find_peaks\n",
    "import scipy as sp\n",
    "import matplotlib.pyplot as plt\n",
    "import sys\n",
    "#from rich import print"
   ]
  },
  {
   "cell_type": "code",
   "execution_count": 5,
   "id": "c531527d-cab9-4be8-a074-687d93460663",
   "metadata": {},
   "outputs": [],
   "source": [
    "# Lendo os arquivos\n",
    "cp2d_c1 = pd.read_csv('../frames/c1cal/c1cal2rec3d.dat', delimiter=' ', header=None)\n",
    "cp2d_c2 = pd.read_csv('../frames/c2cal/c2cal2rec3d.dat', delimiter=' ', header=None)\n",
    "cp2dc1 = np.asarray(cp2d_c1)\n",
    "cp2dc2 = np.asarray(cp2d_c2)\n",
    "\n",
    "cp3d = pd.read_csv('../data/ref3d_v2.ref', delimiter=' ',header=None)\n",
    "cp3d = np.asarray(cp3d)"
   ]
  },
  {
   "cell_type": "code",
   "execution_count": 6,
   "id": "c47a3667-629e-41a5-ade0-b49251629f2f",
   "metadata": {},
   "outputs": [
    {
     "name": "stdout",
     "output_type": "stream",
     "text": [
      "[[-9.58777685e+01  1.53073599e+02 -9.09483052e+00  2.20036316e+02\n",
      "   1.44604193e+01 -1.98849074e-01 -1.62701631e+02  1.62456869e+02\n",
      "  -8.11031539e-02 -3.29078205e-02 -1.08117311e-02]]\n"
     ]
    }
   ],
   "source": [
    "cp3d = np.asarray(cp3d)\n",
    "cp2d = np.asarray(cp2dc1)\n",
    "\n",
    "m = np.size(cp3d[:, 0], 0)\n",
    "M = np.zeros([m * 2, 11])\n",
    "N = np.zeros([m * 2, 1])\n",
    "\n",
    "for i in range(m):\n",
    "    M[i*2,:] = [cp3d[i,0], cp3d[i,1], cp3d[i,2] ,1, 0, 0, 0, 0, -cp2d[i, 0] * cp3d[i, 0], -cp2d[i, 0] * cp3d[i, 1], -cp2d[i, 0] * cp3d[i, 2]]\n",
    "    M[i*2+1,:] = [0 , 0, 0, 0, cp3d[i,0], cp3d[i,1], cp3d[i,2],1, -cp2d[i,1] * cp3d[i,0],-cp2d[i,1] * cp3d[i,1], -cp2d[i,1] * cp3d[i,2]]\n",
    "    N[[i*2,i*2+1],0] = cp2d[i, :]\n",
    "\n",
    "Mt = M.T\n",
    "M1 = inv(Mt.dot(M))\n",
    "MN = Mt.dot(N)\n",
    "\n",
    "DLT_c1 = (M1).dot(MN).T\n",
    "\n",
    "print(DLT_c1)"
   ]
  },
  {
   "cell_type": "code",
   "execution_count": 7,
   "id": "51a49472-03df-45db-a560-b809ce7feabf",
   "metadata": {},
   "outputs": [
    {
     "name": "stdout",
     "output_type": "stream",
     "text": [
      "[[ 3.76874916e+01  1.72851718e+02 -1.00674129e+01  1.92488518e+02\n",
      "   1.14185135e+01 -9.45539638e+00 -1.59289522e+02  1.68360007e+02\n",
      "  -9.33700936e-02  3.72583538e-02 -1.48028025e-02]]\n"
     ]
    }
   ],
   "source": [
    "cp3d = np.asarray(cp3d)\n",
    "cp2d = np.asarray(cp2dc2)\n",
    "\n",
    "m = np.size(cp3d[:, 0], 0)\n",
    "M = np.zeros([m * 2, 11])\n",
    "N = np.zeros([m * 2, 1])\n",
    "\n",
    "for i in range(m):\n",
    "    M[i*2,:] = [cp3d[i,0], cp3d[i,1], cp3d[i,2] ,1, 0, 0, 0, 0, -cp2d[i, 0] * cp3d[i, 0], -cp2d[i, 0] * cp3d[i, 1], -cp2d[i, 0] * cp3d[i, 2]]\n",
    "    M[i*2+1,:] = [0 , 0, 0, 0, cp3d[i,0], cp3d[i,1], cp3d[i,2],1, -cp2d[i,1] * cp3d[i,0],-cp2d[i,1] * cp3d[i,1], -cp2d[i,1] * cp3d[i,2]]\n",
    "    N[[i*2,i*2+1],0] = cp2d[i, :]\n",
    "\n",
    "Mt = M.T\n",
    "M1 = inv(Mt.dot(M))\n",
    "MN = Mt.dot(N)\n",
    "\n",
    "DLT_c2 = (M1).dot(MN).T\n",
    "\n",
    "print(DLT_c2)"
   ]
  },
  {
   "cell_type": "markdown",
   "id": "e65304c9-979c-4188-bd73-6b0fb0cb473d",
   "metadata": {},
   "source": [
    "AGORA FACAM A RECONSTRUCAO 3D COM OS DADOS DE DLT DE CADA CAMERA"
   ]
  }
 ],
 "metadata": {
  "kernelspec": {
   "display_name": "Python 3 (ipykernel)",
   "language": "python",
   "name": "python3"
  },
  "language_info": {
   "codemirror_mode": {
    "name": "ipython",
    "version": 3
   },
   "file_extension": ".py",
   "mimetype": "text/x-python",
   "name": "python",
   "nbconvert_exporter": "python",
   "pygments_lexer": "ipython3",
   "version": "3.8.13"
  }
 },
 "nbformat": 4,
 "nbformat_minor": 5
}
